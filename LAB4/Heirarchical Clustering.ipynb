{
 "cells": [
  {
   "cell_type": "markdown",
   "metadata": {},
   "source": [
    "# Hierarchical Clustering"
   ]
  },
  {
   "cell_type": "markdown",
   "metadata": {},
   "source": [
    "##### By creating Vector space model and the dendogram representation to determine number of clusters for hierarchical clustering using single, average and complete linkage"
   ]
  },
  {
   "cell_type": "markdown",
   "metadata": {},
   "source": [
    " Abhishek Satapathy | 17BCE1326"
   ]
  },
  {
   "cell_type": "markdown",
   "metadata": {},
   "source": [
    "### Import necessary libraries"
   ]
  },
  {
   "cell_type": "code",
   "execution_count": 51,
   "metadata": {},
   "outputs": [],
   "source": [
    "import re\n",
    "import porter\n",
    "from numpy import zeros,dot\n",
    "from nltk.stem import PorterStemmer\n",
    "from numpy.linalg import norm\n",
    "import matplotlib.pyplot as plt"
   ]
  },
  {
   "cell_type": "code",
   "execution_count": 39,
   "metadata": {},
   "outputs": [],
   "source": [
    "__all__=['compare']\n",
    "\n",
    "stop_words = [ 'i', 'in', 'a', 'to', 'the', 'it', 'have', 'haven\\'t', 'was', 'but', 'is', 'be', 'from' ]\n",
    "\n",
    "splitter=re.compile ( \"[a-z\\-']+\", re.I )\n",
    "stemmer=PorterStemmer()"
   ]
  },
  {
   "cell_type": "markdown",
   "metadata": {},
   "source": [
    "The below function adds a word the dictionary for words/count\n",
    "First checks for stop words \n",
    "Then converts word to stemmed version"
   ]
  },
  {
   "cell_type": "code",
   "execution_count": 40,
   "metadata": {},
   "outputs": [],
   "source": [
    "def add_word(word,d):\n",
    " w=word.lower() \n",
    " if w not in stop_words:\n",
    "  ws=stemmer.stem(w)\n",
    "  d.setdefault(ws,0)\n",
    "  d[ws] += 1"
   ]
  },
  {
   "cell_type": "markdown",
   "metadata": {},
   "source": [
    "Creates Document vector and removes stopwords and applies stemming"
   ]
  },
  {
   "cell_type": "code",
   "execution_count": 41,
   "metadata": {},
   "outputs": [],
   "source": [
    "def doc_vec(doc,key_idx):\n",
    " v=zeros(len(key_idx))\n",
    " for word in splitter.findall(doc):\n",
    "  keydata=key_idx.get(stemmer.stem(word).lower(), None)\n",
    "  if keydata: v[keydata[0]] = 1\n",
    " return v"
   ]
  },
  {
   "cell_type": "markdown",
   "metadata": {},
   "source": [
    "# Vector Space Model"
   ]
  },
  {
   "cell_type": "markdown",
   "metadata": {},
   "source": [
    "Computes vector space model using cosine similarity"
   ]
  },
  {
   "cell_type": "code",
   "execution_count": 42,
   "metadata": {},
   "outputs": [],
   "source": [
    "def compare(doc1,doc2):\n",
    "\n",
    " # strip all punctuation but - and '\n",
    " # convert to lower case\n",
    " # store word/occurance in dict\n",
    " all_words=dict()\n",
    "\n",
    " for dat in [doc1,doc2]:\n",
    "  [add_word(w,all_words) for w in splitter.findall(dat)]\n",
    " \n",
    " # build an index of keys so that we know the word positions for the vector\n",
    " key_idx=dict() # key-> ( position, count )\n",
    " keys=list(all_words.keys())\n",
    " sorted(keys)\n",
    " #print keys\n",
    " for i in range(len(keys)):\n",
    "  key_idx[keys[i]] = (i,all_words[keys[i]])\n",
    " del keys\n",
    " del all_words\n",
    "\n",
    " v1=doc_vec(doc1,key_idx)\n",
    " v2=doc_vec(doc2,key_idx)\n",
    " return float(dot(v1,v2) / (norm(v1) * norm(v2)))"
   ]
  },
  {
   "cell_type": "markdown",
   "metadata": {},
   "source": [
    "## Similarity index of all pairs of documents"
   ]
  },
  {
   "cell_type": "code",
   "execution_count": 60,
   "metadata": {},
   "outputs": [
    {
     "name": "stdout",
     "output_type": "stream",
     "text": [
      "Using Doc1: Electric automotive maker Tesla Inc. is likely to introduce its products in India sometime in the summer of 2017.\n",
      "\n",
      "Using Doc2: Electric automotive maker Tesla Inc. is likely to introduce its products in India sometime in the summer of 2017.\n",
      "\n",
      "Similarity 1.0000000000000002\n",
      "----------------------------------\n",
      "\n",
      "Using Doc1: Electric automotive maker Tesla Inc. is likely to introduce its products in India sometime in the summer of 2017.\n",
      "\n",
      "Using Doc2: Automotive major Mahindra likely to introduce driverless cars\n",
      "\n",
      "Similarity 0.3144854510165755\n",
      "----------------------------------\n",
      "\n",
      "Using Doc1: Electric automotive maker Tesla Inc. is likely to introduce its products in India sometime in the summer of 2017.\n",
      "\n",
      "Using Doc2: BMW plans to introduce its own motorcycles in india\n",
      "\n",
      "Similarity 0.3144854510165755\n",
      "----------------------------------\n",
      "\n",
      "Using Doc1: Electric automotive maker Tesla Inc. is likely to introduce its products in India sometime in the summer of 2017.\n",
      "\n",
      "Using Doc2: Just drive, a self-drive car rental firm uses smart vehicle technology based on IoT\n",
      "\n",
      "Similarity 0.0\n",
      "----------------------------------\n",
      "\n",
      "Using Doc1: Electric automotive maker Tesla Inc. is likely to introduce its products in India sometime in the summer of 2017.\n",
      "\n",
      "Using Doc2: Automotive industry going to hire thousands in 2018\n",
      "\n",
      "Similarity 0.12403473458920847\n",
      "----------------------------------\n",
      "\n",
      "Using Doc1: Electric automotive maker Tesla Inc. is likely to introduce its products in India sometime in the summer of 2017.\n",
      "\n",
      "Using Doc2: Famous cricket player Dhoni brought his priced car Hummer which is an SUV\n",
      "\n",
      "Similarity 0.0\n",
      "----------------------------------\n",
      "\n",
      "Using Doc1: Electric automotive maker Tesla Inc. is likely to introduce its products in India sometime in the summer of 2017.\n",
      "\n",
      "Using Doc2: Dhoni led india to its second world cup victory\n",
      "\n",
      "Similarity 0.19611613513818402\n",
      "----------------------------------\n",
      "\n",
      "Using Doc1: Electric automotive maker Tesla Inc. is likely to introduce its products in India sometime in the summer of 2017.\n",
      "\n",
      "Using Doc2: IoT in cars will lead to more safety and make driverless vehicle revolution possible\n",
      "\n",
      "Similarity 0.0\n",
      "----------------------------------\n",
      "\n",
      "Using Doc1: Electric automotive maker Tesla Inc. is likely to introduce its products in India sometime in the summer of 2017.\n",
      "\n",
      "Using Doc2: Sachin recommended Dhoni for the indian skipper post\n",
      "\n",
      "Similarity 0.0\n",
      "----------------------------------\n",
      "\n",
      "Using Doc1: Automotive major Mahindra likely to introduce driverless cars\n",
      "\n",
      "Using Doc2: Automotive major Mahindra likely to introduce driverless cars\n",
      "\n",
      "Similarity 0.9999999999999999\n",
      "----------------------------------\n",
      "\n",
      "Using Doc1: Automotive major Mahindra likely to introduce driverless cars\n",
      "\n",
      "Using Doc2: BMW plans to introduce its own motorcycles in india\n",
      "\n",
      "Similarity 0.14285714285714285\n",
      "----------------------------------\n",
      "\n",
      "Using Doc1: Automotive major Mahindra likely to introduce driverless cars\n",
      "\n",
      "Using Doc2: Just drive, a self-drive car rental firm uses smart vehicle technology based on IoT\n",
      "\n",
      "Similarity 0.10482848367219183\n",
      "----------------------------------\n",
      "\n",
      "Using Doc1: Automotive major Mahindra likely to introduce driverless cars\n",
      "\n",
      "Using Doc2: Automotive industry going to hire thousands in 2018\n",
      "\n",
      "Similarity 0.16903085094570328\n",
      "----------------------------------\n",
      "\n",
      "Using Doc1: Automotive major Mahindra likely to introduce driverless cars\n",
      "\n",
      "Using Doc2: Famous cricket player Dhoni brought his priced car Hummer which is an SUV\n",
      "\n",
      "Similarity 0.1091089451179962\n",
      "----------------------------------\n",
      "\n",
      "Using Doc1: Automotive major Mahindra likely to introduce driverless cars\n",
      "\n",
      "Using Doc2: Dhoni led india to its second world cup victory\n",
      "\n",
      "Similarity 0.0\n",
      "----------------------------------\n",
      "\n",
      "Using Doc1: Automotive major Mahindra likely to introduce driverless cars\n",
      "\n",
      "Using Doc2: IoT in cars will lead to more safety and make driverless vehicle revolution possible\n",
      "\n",
      "Similarity 0.2182178902359924\n",
      "----------------------------------\n",
      "\n",
      "Using Doc1: Automotive major Mahindra likely to introduce driverless cars\n",
      "\n",
      "Using Doc2: Sachin recommended Dhoni for the indian skipper post\n",
      "\n",
      "Similarity 0.0\n",
      "----------------------------------\n",
      "\n",
      "Using Doc1: BMW plans to introduce its own motorcycles in india\n",
      "\n",
      "Using Doc2: BMW plans to introduce its own motorcycles in india\n",
      "\n",
      "Similarity 0.9999999999999999\n",
      "----------------------------------\n",
      "\n",
      "Using Doc1: BMW plans to introduce its own motorcycles in india\n",
      "\n",
      "Using Doc2: Just drive, a self-drive car rental firm uses smart vehicle technology based on IoT\n",
      "\n",
      "Similarity 0.0\n",
      "----------------------------------\n",
      "\n",
      "Using Doc1: BMW plans to introduce its own motorcycles in india\n",
      "\n",
      "Using Doc2: Automotive industry going to hire thousands in 2018\n",
      "\n",
      "Similarity 0.0\n",
      "----------------------------------\n",
      "\n",
      "Using Doc1: BMW plans to introduce its own motorcycles in india\n",
      "\n",
      "Using Doc2: Famous cricket player Dhoni brought his priced car Hummer which is an SUV\n",
      "\n",
      "Similarity 0.0\n",
      "----------------------------------\n",
      "\n",
      "Using Doc1: BMW plans to introduce its own motorcycles in india\n",
      "\n",
      "Using Doc2: Dhoni led india to its second world cup victory\n",
      "\n",
      "Similarity 0.26726124191242434\n",
      "----------------------------------\n",
      "\n",
      "Using Doc1: BMW plans to introduce its own motorcycles in india\n",
      "\n",
      "Using Doc2: IoT in cars will lead to more safety and make driverless vehicle revolution possible\n",
      "\n",
      "Similarity 0.0\n",
      "----------------------------------\n",
      "\n",
      "Using Doc1: BMW plans to introduce its own motorcycles in india\n",
      "\n",
      "Using Doc2: Sachin recommended Dhoni for the indian skipper post\n",
      "\n",
      "Similarity 0.0\n",
      "----------------------------------\n",
      "\n",
      "Using Doc1: Just drive, a self-drive car rental firm uses smart vehicle technology based on IoT\n",
      "\n",
      "Using Doc2: Just drive, a self-drive car rental firm uses smart vehicle technology based on IoT\n",
      "\n",
      "Similarity 1.0000000000000002\n",
      "----------------------------------\n",
      "\n",
      "Using Doc1: Just drive, a self-drive car rental firm uses smart vehicle technology based on IoT\n",
      "\n",
      "Using Doc2: Automotive industry going to hire thousands in 2018\n",
      "\n",
      "Similarity 0.0\n",
      "----------------------------------\n",
      "\n",
      "Using Doc1: Just drive, a self-drive car rental firm uses smart vehicle technology based on IoT\n",
      "\n",
      "Using Doc2: Famous cricket player Dhoni brought his priced car Hummer which is an SUV\n",
      "\n",
      "Similarity 0.08006407690254358\n",
      "----------------------------------\n",
      "\n",
      "Using Doc1: Just drive, a self-drive car rental firm uses smart vehicle technology based on IoT\n",
      "\n",
      "Using Doc2: Dhoni led india to its second world cup victory\n",
      "\n",
      "Similarity 0.0\n",
      "----------------------------------\n",
      "\n",
      "Using Doc1: Just drive, a self-drive car rental firm uses smart vehicle technology based on IoT\n",
      "\n",
      "Using Doc2: IoT in cars will lead to more safety and make driverless vehicle revolution possible\n",
      "\n",
      "Similarity 0.24019223070763074\n",
      "----------------------------------\n",
      "\n",
      "Using Doc1: Just drive, a self-drive car rental firm uses smart vehicle technology based on IoT\n",
      "\n",
      "Using Doc2: Sachin recommended Dhoni for the indian skipper post\n",
      "\n",
      "Similarity 0.0\n",
      "----------------------------------\n",
      "\n",
      "Using Doc1: Automotive industry going to hire thousands in 2018\n",
      "\n",
      "Using Doc2: Automotive industry going to hire thousands in 2018\n",
      "\n",
      "Similarity 0.9999999999999998\n",
      "----------------------------------\n",
      "\n",
      "Using Doc1: Automotive industry going to hire thousands in 2018\n",
      "\n",
      "Using Doc2: Famous cricket player Dhoni brought his priced car Hummer which is an SUV\n",
      "\n",
      "Similarity 0.0\n",
      "----------------------------------\n",
      "\n",
      "Using Doc1: Automotive industry going to hire thousands in 2018\n",
      "\n",
      "Using Doc2: Dhoni led india to its second world cup victory\n",
      "\n",
      "Similarity 0.0\n",
      "----------------------------------\n",
      "\n",
      "Using Doc1: Automotive industry going to hire thousands in 2018\n",
      "\n",
      "Using Doc2: IoT in cars will lead to more safety and make driverless vehicle revolution possible\n",
      "\n",
      "Similarity 0.0\n",
      "----------------------------------\n",
      "\n",
      "Using Doc1: Automotive industry going to hire thousands in 2018\n",
      "\n",
      "Using Doc2: Sachin recommended Dhoni for the indian skipper post\n",
      "\n",
      "Similarity 0.0\n",
      "----------------------------------\n",
      "\n",
      "Using Doc1: Famous cricket player Dhoni brought his priced car Hummer which is an SUV\n",
      "\n",
      "Using Doc2: Famous cricket player Dhoni brought his priced car Hummer which is an SUV\n",
      "\n",
      "Similarity 1.0000000000000002\n",
      "----------------------------------\n",
      "\n",
      "Using Doc1: Famous cricket player Dhoni brought his priced car Hummer which is an SUV\n",
      "\n",
      "Using Doc2: Dhoni led india to its second world cup victory\n",
      "\n",
      "Similarity 0.10206207261596574\n",
      "----------------------------------\n",
      "\n",
      "Using Doc1: Famous cricket player Dhoni brought his priced car Hummer which is an SUV\n",
      "\n",
      "Using Doc2: IoT in cars will lead to more safety and make driverless vehicle revolution possible\n",
      "\n",
      "Similarity 0.08333333333333334\n",
      "----------------------------------\n",
      "\n",
      "Using Doc1: Famous cricket player Dhoni brought his priced car Hummer which is an SUV\n",
      "\n",
      "Using Doc2: Sachin recommended Dhoni for the indian skipper post\n",
      "\n",
      "Similarity 0.1091089451179962\n",
      "----------------------------------\n",
      "\n",
      "Using Doc1: Dhoni led india to its second world cup victory\n",
      "\n",
      "Using Doc2: Dhoni led india to its second world cup victory\n",
      "\n",
      "Similarity 0.9999999999999998\n",
      "----------------------------------\n",
      "\n",
      "Using Doc1: Dhoni led india to its second world cup victory\n",
      "\n",
      "Using Doc2: IoT in cars will lead to more safety and make driverless vehicle revolution possible\n",
      "\n",
      "Similarity 0.0\n",
      "----------------------------------\n",
      "\n",
      "Using Doc1: Dhoni led india to its second world cup victory\n",
      "\n",
      "Using Doc2: Sachin recommended Dhoni for the indian skipper post\n",
      "\n",
      "Similarity 0.13363062095621217\n",
      "----------------------------------\n",
      "\n",
      "Using Doc1: IoT in cars will lead to more safety and make driverless vehicle revolution possible\n",
      "\n",
      "Using Doc2: IoT in cars will lead to more safety and make driverless vehicle revolution possible\n",
      "\n",
      "Similarity 1.0000000000000002\n",
      "----------------------------------\n",
      "\n",
      "Using Doc1: IoT in cars will lead to more safety and make driverless vehicle revolution possible\n",
      "\n",
      "Using Doc2: Sachin recommended Dhoni for the indian skipper post\n",
      "\n",
      "Similarity 0.0\n",
      "----------------------------------\n",
      "\n",
      "Using Doc1: Sachin recommended Dhoni for the indian skipper post\n",
      "\n",
      "Using Doc2: Sachin recommended Dhoni for the indian skipper post\n",
      "\n",
      "Similarity 0.9999999999999999\n",
      "----------------------------------\n",
      "\n"
     ]
    }
   ],
   "source": [
    "docs = []\n",
    "similarity_matrix = []\n",
    "\n",
    "for i in range(1,10):\n",
    "    doc = open(\"./docs/doc\"+str(i)+\".txt\").read()\n",
    "    docs.append(doc)\n",
    "\n",
    "for i in range(len(docs)):\n",
    "    score=[]\n",
    "    for j in range(i,len(docs)):\n",
    "        print(\"Using Doc1: %s\\n\\nUsing Doc2: %s\\n\" % ( docs[i], docs[j] ))\n",
    "        s = float(compare(docs[i],docs[j]))\n",
    "        score.append(s)\n",
    "        print(\"Similarity %s\\n----------------------------------\\n\" % s)\n",
    "    similarity_matrix.append(score)"
   ]
  },
  {
   "cell_type": "code",
   "execution_count": 57,
   "metadata": {},
   "outputs": [
    {
     "data": {
      "text/plain": [
       "[[1.0000000000000002,\n",
       "  0.3144854510165755,\n",
       "  0.3144854510165755,\n",
       "  0.0,\n",
       "  0.12403473458920847,\n",
       "  0.0,\n",
       "  0.19611613513818402,\n",
       "  0.0,\n",
       "  0.0],\n",
       " [0.9999999999999999,\n",
       "  0.14285714285714285,\n",
       "  0.10482848367219183,\n",
       "  0.16903085094570328,\n",
       "  0.1091089451179962,\n",
       "  0.0,\n",
       "  0.2182178902359924,\n",
       "  0.0],\n",
       " [0.9999999999999999, 0.0, 0.0, 0.0, 0.26726124191242434, 0.0, 0.0],\n",
       " [1.0000000000000002, 0.0, 0.08006407690254358, 0.0, 0.24019223070763074, 0.0],\n",
       " [0.9999999999999998, 0.0, 0.0, 0.0, 0.0],\n",
       " [1.0000000000000002,\n",
       "  0.10206207261596574,\n",
       "  0.08333333333333334,\n",
       "  0.1091089451179962],\n",
       " [0.9999999999999998, 0.0, 0.13363062095621217],\n",
       " [1.0000000000000002, 0.0],\n",
       " [0.9999999999999999]]"
      ]
     },
     "execution_count": 57,
     "metadata": {},
     "output_type": "execute_result"
    }
   ],
   "source": [
    "similarity_matrix"
   ]
  },
  {
   "cell_type": "markdown",
   "metadata": {},
   "source": [
    "## Dendogram"
   ]
  },
  {
   "cell_type": "code",
   "execution_count": 67,
   "metadata": {},
   "outputs": [
    {
     "data": {
      "image/png": "[encoded data removed]",
      "text/plain": [
       "<Figure size 720x360 with 1 Axes>"
      ]
     },
     "metadata": {
      "needs_background": "light"
     },
     "output_type": "display_data"
    }
   ],
   "source": [
    "from scipy.cluster.hierarchy import ward, dendrogram\n",
    "\n",
    "linkage_matrix = ward(dist) #define the linkage_matrix using ward clustering pre-computed distances\n",
    "\n",
    "fig, ax = plt.subplots(figsize=(10, 5)) # set size\n",
    "ax = dendrogram(linkage_matrix, orientation=\"right\");\n",
    "\n",
    "plt.tick_params(\\\n",
    "    axis= 'x',          # changes apply to the x-axis\n",
    "    which='both',      # both major and minor ticks are affected\n",
    "    bottom='false',      # ticks along the bottom edge are off\n",
    "    top='false',         # ticks along the top edge are off\n",
    "    labelbottom='true')\n",
    "\n",
    "plt.tight_layout() #show plot with tight layout\n"
   ]
  },
  {
   "cell_type": "markdown",
   "metadata": {},
   "source": [
    "## Clustering"
   ]
  },
  {
   "cell_type": "markdown",
   "metadata": {},
   "source": [
    "#### Single Linkage"
   ]
  },
  {
   "cell_type": "code",
   "execution_count": 89,
   "metadata": {},
   "outputs": [],
   "source": [
    "from sklearn.cluster import AgglomerativeClustering\n",
    "\n",
    "model = AgglomerativeClustering(n_clusters=3, affinity='manhattan', linkage='single')\n",
    "model.fit(linkage_matrix)\n",
    "labels = model.labels_"
   ]
  },
  {
   "cell_type": "code",
   "execution_count": 90,
   "metadata": {},
   "outputs": [
    {
     "data": {
      "image/png": "[encoded data removed]",
      "text/plain": [
       "<Figure size 432x288 with 1 Axes>"
      ]
     },
     "metadata": {
      "needs_background": "light"
     },
     "output_type": "display_data"
    }
   ],
   "source": [
    "plt.scatter(linkage_matrix[labels==0, 0], linkage_matrix[labels==0, 1], s=50, marker='o', color='red')\n",
    "plt.scatter(linkage_matrix[labels==1, 0], linkage_matrix[labels==1, 1], s=50, marker='o', color='blue')\n",
    "plt.scatter(linkage_matrix[labels==2, 0], linkage_matrix[labels==2, 1], s=50, marker='o', color='green')\n",
    "# plt.scatter(linkage_matrix[labels==3, 0], linkage_matrix[labels==3, 1], s=50, marker='o', color='purple')\n",
    "# plt.scatter(linkage_matrix[labels==4, 0], linkage_matrix[labels==4, 1], s=50, marker='o', color='orange')\n",
    "# plt.scatter(linkage_matrix[labels==5, 0], linkage_matrix[labels==5, 1], s=50, marker='o', color='black')\n",
    "# plt.scatter(linkage_matrix[labels==6, 0], linkage_matrix[labels==6, 1], s=50, marker='o', color='cyan')\n",
    "plt.show()"
   ]
  },
  {
   "cell_type": "markdown",
   "metadata": {},
   "source": [
    "#### Average Linkage"
   ]
  },
  {
   "cell_type": "code",
   "execution_count": 91,
   "metadata": {},
   "outputs": [
    {
     "data": {
      "image/png": "[encoded data removed]",
      "text/plain": [
       "<Figure size 432x288 with 1 Axes>"
      ]
     },
     "metadata": {
      "needs_background": "light"
     },
     "output_type": "display_data"
    }
   ],
   "source": [
    "model = AgglomerativeClustering(n_clusters=3, affinity='manhattan', linkage='average')\n",
    "model.fit(linkage_matrix)\n",
    "labels = model.labels_\n",
    "\n",
    "plt.scatter(linkage_matrix[labels==0, 0], linkage_matrix[labels==0, 1], s=50, marker='o', color='red')\n",
    "plt.scatter(linkage_matrix[labels==1, 0], linkage_matrix[labels==1, 1], s=50, marker='o', color='blue')\n",
    "plt.scatter(linkage_matrix[labels==2, 0], linkage_matrix[labels==2, 1], s=50, marker='o', color='green')\n",
    "# plt.scatter(linkage_matrix[labels==3, 0], linkage_matrix[labels==3, 1], s=50, marker='o', color='purple')\n",
    "# plt.scatter(linkage_matrix[labels==4, 0], linkage_matrix[labels==4, 1], s=50, marker='o', color='orange')\n",
    "# plt.scatter(linkage_matrix[labels==5, 0], linkage_matrix[labels==5, 1], s=50, marker='o', color='black')\n",
    "# plt.scatter(linkage_matrix[labels==6, 0], linkage_matrix[labels==6, 1], s=50, marker='o', color='cyan')\n",
    "plt.show()"
   ]
  },
  {
   "cell_type": "markdown",
   "metadata": {},
   "source": [
    "#### Complete Linkage"
   ]
  },
  {
   "cell_type": "code",
   "execution_count": 92,
   "metadata": {},
   "outputs": [
    {
     "data": {
      "image/png": "[encoded data removed]",
      "text/plain": [
       "<Figure size 432x288 with 1 Axes>"
      ]
     },
     "metadata": {
      "needs_background": "light"
     },
     "output_type": "display_data"
    }
   ],
   "source": [
    "model = AgglomerativeClustering(n_clusters=3, affinity='manhattan', linkage='complete')\n",
    "model.fit(linkage_matrix)\n",
    "labels = model.labels_\n",
    "\n",
    "plt.scatter(linkage_matrix[labels==0, 0], linkage_matrix[labels==0, 1], s=50, marker='o', color='red')\n",
    "plt.scatter(linkage_matrix[labels==1, 0], linkage_matrix[labels==1, 1], s=50, marker='o', color='blue')\n",
    "plt.scatter(linkage_matrix[labels==2, 0], linkage_matrix[labels==2, 1], s=50, marker='o', color='green')\n",
    "# plt.scatter(linkage_matrix[labels==3, 0], linkage_matrix[labels==3, 1], s=50, marker='o', color='purple')\n",
    "# plt.scatter(linkage_matrix[labels==4, 0], linkage_matrix[labels==4, 1], s=50, marker='o', color='orange')\n",
    "# plt.scatter(linkage_matrix[labels==5, 0], linkage_matrix[labels==5, 1], s=50, marker='o', color='black')\n",
    "# plt.scatter(linkage_matrix[labels==6, 0], linkage_matrix[labels==6, 1], s=50, marker='o', color='cyan')\n",
    "plt.show()"
   ]
  }
 ],
 "metadata": {
  "kernelspec": {
   "display_name": "Python 3",
   "language": "python",
   "name": "python3"
  },
  "language_info": {
   "codemirror_mode": {
    "name": "ipython",
    "version": 3
   },
   "file_extension": ".py",
   "mimetype": "text/x-python",
   "name": "python",
   "nbconvert_exporter": "python",
   "pygments_lexer": "ipython3",
   "version": "3.7.4"
  }
 },
 "nbformat": 4,
 "nbformat_minor": 2
}
